{
  "nbformat": 4,
  "nbformat_minor": 0,
  "metadata": {
    "colab": {
      "provenance": [],
      "authorship_tag": "ABX9TyOTwstOKShZfZtT+2a1OdCX",
      "include_colab_link": true
    },
    "kernelspec": {
      "name": "python3",
      "display_name": "Python 3"
    },
    "language_info": {
      "name": "python"
    }
  },
  "cells": [
    {
      "cell_type": "markdown",
      "metadata": {
        "id": "view-in-github",
        "colab_type": "text"
      },
      "source": [
        "<a href=\"https://colab.research.google.com/github/RylleLang/MANTARING_RYLLE_AIRO_CPE311N/blob/main/Dynamic_Programming.ipynb\" target=\"_parent\"><img src=\"https://colab.research.google.com/assets/colab-badge.svg\" alt=\"Open In Colab\"/></a>"
      ]
    },
    {
      "cell_type": "code",
      "execution_count": 7,
      "metadata": {
        "colab": {
          "base_uri": "https://localhost:8080/",
          "height": 110
        },
        "id": "22PvQN6XFdve",
        "outputId": "fcd3b5a1-0f87-4985-ccd1-7ee010bf966c"
      },
      "outputs": [
        {
          "output_type": "error",
          "ename": "SyntaxError",
          "evalue": "expected ':' (<ipython-input-7-df768f3e753d>, line 8)",
          "traceback": [
            "\u001b[0;36m  File \u001b[0;32m\"<ipython-input-7-df768f3e753d>\"\u001b[0;36m, line \u001b[0;32m8\u001b[0m\n\u001b[0;31m    else A1 == Ai:\u001b[0m\n\u001b[0m         ^\u001b[0m\n\u001b[0;31mSyntaxError\u001b[0m\u001b[0;31m:\u001b[0m expected ':'\n"
          ]
        }
      ],
      "source": [
        "from _typeshed import AnyOrLiteralStr\n",
        "def elements(self,A1):\n",
        " realnumber = self.A1\n",
        "\n",
        "def sequence (A1,Ai,Aj):\n",
        " if A1 == 0:\n",
        "  return \"Invalid\"\n",
        " else A1 == Ai:\n",
        "\n",
        "\n",
        "A1 =\n",
        "Ai = int(input(\"First number\"))\n",
        "Aj= int(input(\"Second number\"))\n"
      ]
    },
    {
      "cell_type": "code",
      "source": [
        "print(\"the subsequence is\"+ Ai+Aj)"
      ],
      "metadata": {
        "id": "BtXR9LOPHbFf"
      },
      "execution_count": null,
      "outputs": []
    }
  ]
}